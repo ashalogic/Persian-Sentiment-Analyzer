{
  "nbformat": 4,
  "nbformat_minor": 0,
  "metadata": {
    "colab": {
      "name": "Tutorial.ipynb",
      "provenance": [],
      "collapsed_sections": []
    },
    "kernelspec": {
      "name": "python3",
      "display_name": "Python 3"
    },
    "accelerator": "GPU"
  },
  "cells": [
    {
      "cell_type": "markdown",
      "metadata": {
        "id": "sMNPBU2OwSBw"
      },
      "source": [
        "# Tutorial : Persian Sentiment Analysis With LSTM & Fasttext\n",
        "### step by step guide through Persian sentiment analysis\n",
        "\n",
        "\n",
        "---\n",
        "\n",
        "\n",
        "so there are 4 steps we going through with each other  😍"
      ]
    },
    {
      "cell_type": "markdown",
      "metadata": {
        "id": "nS1VtmSF6wmn"
      },
      "source": [
        "## Step A) Preparing word embedding model\n",
        "in this step we gonna to prepare [word embedding](https://towardsdatascience.com/introduction-to-word-embedding-and-word2vec-652d0c2060fa) model.\n",
        "there are too many ways to train a word embedding model for example :\n",
        "\n",
        "1.   Fasttext\n",
        "2.   ELMo\n",
        "3.   Universal Sentence Embeddings ( 😂 این یکی عالیه )\n",
        "4.   Word2Vec\n",
        "5.   ...\n",
        "\n",
        "if you Want to know more then read [this article from Thomas Wolf](https://medium.com/huggingface/universal-word-sentence-embeddings-ce48ddc8fc3a) but now we gonna use Fasttext because it's Pretrained by Facebook and we can use it ( there is nothing to worry about this model it's pretty easy to train it by your self or your corpus facebook used Persian Wikipedia and some other staff as dataset for this model so it's just very simpler for us 😎 )\n",
        "\n"
      ]
    },
    {
      "cell_type": "code",
      "metadata": {
        "id": "BELKe6-qixIA",
        "colab": {
          "base_uri": "https://localhost:8080/"
        },
        "outputId": "4f408e9c-22c8-45e7-9ce0-9a7c985c0f79"
      },
      "source": [
        "#@title Download, extract and load Fasttext word embedding model\n",
        "\n",
        "!wget https://dl.fbaipublicfiles.com/fasttext/vectors-crawl/cc.fa.300.bin.gz\n",
        "!gunzip /content/cc.fa.300.bin.gz\n",
        "!pip install fasttext\n",
        "\n",
        "import fasttext \n",
        "\n",
        "%time\n",
        "model = fasttext.load_model(\"/content/cc.fa.300.bin\")"
      ],
      "execution_count": 1,
      "outputs": [
        {
          "output_type": "stream",
          "name": "stdout",
          "text": [
            "--2022-01-31 03:30:08--  https://dl.fbaipublicfiles.com/fasttext/vectors-crawl/cc.fa.300.bin.gz\n",
            "Resolving dl.fbaipublicfiles.com (dl.fbaipublicfiles.com)... 104.22.74.142, 104.22.75.142, 172.67.9.4, ...\n",
            "Connecting to dl.fbaipublicfiles.com (dl.fbaipublicfiles.com)|104.22.74.142|:443... connected.\n",
            "HTTP request sent, awaiting response... 200 OK\n",
            "Length: 4502524724 (4.2G) [application/octet-stream]\n",
            "Saving to: ‘cc.fa.300.bin.gz’\n",
            "\n",
            "cc.fa.300.bin.gz    100%[===================>]   4.19G  51.0MB/s    in 86s     \n",
            "\n",
            "2022-01-31 03:31:34 (50.2 MB/s) - ‘cc.fa.300.bin.gz’ saved [4502524724/4502524724]\n",
            "\n",
            "Requirement already satisfied: fasttext in /usr/local/lib/python3.7/dist-packages (0.9.2)\n",
            "Requirement already satisfied: setuptools>=0.7.0 in /usr/local/lib/python3.7/dist-packages (from fasttext) (57.4.0)\n",
            "Requirement already satisfied: pybind11>=2.2 in /usr/local/lib/python3.7/dist-packages (from fasttext) (2.9.0)\n",
            "Requirement already satisfied: numpy in /usr/local/lib/python3.7/dist-packages (from fasttext) (1.19.5)\n",
            "CPU times: user 3 µs, sys: 0 ns, total: 3 µs\n",
            "Wall time: 5.96 µs\n"
          ]
        },
        {
          "output_type": "stream",
          "name": "stderr",
          "text": [
            "Warning : `load_model` does not return WordVectorModel or SupervisedModel any more, but a `FastText` object which is very similar.\n"
          ]
        }
      ]
    },
    {
      "cell_type": "markdown",
      "metadata": {
        "id": "2ZKbBDbX7Mza"
      },
      "source": [
        "## Step B) Preparing opinion dataset\n",
        "in this step we going to collect a dataset that crawled by [@minasmz](https://github.com/minasmz) it's not good and I only used 450 pos and 450 neg reviews from it.anyway here we will download the dataset and split it to train and test ( I created Train and Test then I filled it with data )"
      ]
    },
    {
      "cell_type": "code",
      "metadata": {
        "id": "nAQMVT05MMY4",
        "colab": {
          "base_uri": "https://localhost:8080/"
        },
        "outputId": "80c2e828-c67a-437f-ea15-63deb3c26ab7"
      },
      "source": [
        "#@title Download and prepare Dataset\n",
        "!wget https://raw.githubusercontent.com/ashalogic/Persian-Sentiment-Analyzer/master/Tutorial_Dataset.csv\n",
        "!pip install hazm\n",
        "\n",
        "import pandas\n",
        "import random\n",
        "import numpy\n",
        "import hazm\n",
        "\n",
        "def CleanPersianText(text):\n",
        "  _normalizer = hazm.Normalizer()\n",
        "  text = _normalizer.normalize(text)\n",
        "  return text\n",
        "\n",
        "csv_dataset = pandas.read_csv(\"/content/Tutorial_Dataset.csv\")\n",
        "revlist = list(map(lambda x: [CleanPersianText(x[0]),x[1]],zip(csv_dataset['Text'],csv_dataset['Suggestion'])))\n",
        "pos=list(filter(lambda x: x[1] == 1,revlist))\n",
        "nat=list(filter(lambda x: x[1] == 2,revlist))\n",
        "neg=list(filter(lambda x: x[1] == 3,revlist))\n",
        "revlist_shuffle = pos[:450] + neg[:450]\n",
        "random.shuffle(revlist_shuffle)\n",
        "\n",
        "print(\"Posetive count {}\".format(len(pos)))\n",
        "print(\"Negetive count {}\".format(len(neg)))\n",
        "print(\"Natural  count {}\".format(len(nat)))\n",
        "print()\n",
        "print(\"Total    count {}\".format(len(revlist)))\n",
        "print()\n",
        "print(\"Posetive count : \",\"\\n\",pos[random.randrange(1,len(pos))])\n",
        "print(\"Negetive count : \",\"\\n\",neg[random.randrange(1,len(neg))])\n",
        "print(\"unknown  count : \",\"\\n\",nat[random.randrange(1,len(nat))])\n",
        "print(\"Total    count {}\".format(len(revlist_shuffle)))\n"
      ],
      "execution_count": 2,
      "outputs": [
        {
          "output_type": "stream",
          "name": "stdout",
          "text": [
            "--2022-01-31 03:35:59--  https://raw.githubusercontent.com/ashalogic/Persian-Sentiment-Analyzer/master/Tutorial_Dataset.csv\n",
            "Resolving raw.githubusercontent.com (raw.githubusercontent.com)... 185.199.108.133, 185.199.111.133, 185.199.110.133, ...\n",
            "Connecting to raw.githubusercontent.com (raw.githubusercontent.com)|185.199.108.133|:443... connected.\n",
            "HTTP request sent, awaiting response... 200 OK\n",
            "Length: 1444954 (1.4M) [text/plain]\n",
            "Saving to: ‘Tutorial_Dataset.csv’\n",
            "\n",
            "\rTutorial_Dataset.cs   0%[                    ]       0  --.-KB/s               \rTutorial_Dataset.cs 100%[===================>]   1.38M  --.-KB/s    in 0.06s   \n",
            "\n",
            "2022-01-31 03:36:00 (24.7 MB/s) - ‘Tutorial_Dataset.csv’ saved [1444954/1444954]\n",
            "\n",
            "Requirement already satisfied: hazm in /usr/local/lib/python3.7/dist-packages (0.7.0)\n",
            "Requirement already satisfied: nltk==3.3 in /usr/local/lib/python3.7/dist-packages (from hazm) (3.3)\n",
            "Requirement already satisfied: libwapiti>=0.2.1 in /usr/local/lib/python3.7/dist-packages (from hazm) (0.2.1)\n",
            "Requirement already satisfied: six in /usr/local/lib/python3.7/dist-packages (from nltk==3.3->hazm) (1.15.0)\n",
            "Posetive count 2382\n",
            "Negetive count 460\n",
            "Natural  count 419\n",
            "\n",
            "Total    count 3261\n",
            "\n",
            "Posetive count :  \n",
            " ['فوق العاده حس کنسرت رو بهت میده بیس بالا حتما بخرید پشیمون نمیشید ', 1]\n",
            "Negetive count :  \n",
            " ['کیفیتس خوبه و بسته بندی زیبایی داره از دیجی کالا هم ممنون ', 3]\n",
            "unknown  count :  \n",
            " ['این کرم برای کسایی خوبه که پوستشون سفید یا گندمیه روشنه و اینکه خیلی رقیقه روی پوست سبکه و احساس سنگینی نمیده پوشش دهیش خیلی قوی نیست بعد ۲۰دقیقه جذب پوست میشه و با رنگ اصلی پوست یکی میشه و به نظرم حتما باید صورت تمیز باشه و قبلش کرم مرطوب کننده استفاده بشه وگرنه کرم پودر تیکه تیکه روی صورت میشینه ', 2]\n",
            "Total    count 900\n"
          ]
        }
      ]
    },
    {
      "cell_type": "code",
      "metadata": {
        "id": "wUJceKehjfJ3"
      },
      "source": [
        "#@title Prepare Train & Test Data\n",
        "vector_size = 300 #@param {type:\"integer\"}\n",
        "max_no_tokens = 20 #@param {type:\"integer\"}\n",
        "import numpy as np\n",
        "import keras.backend as K\n",
        "train_size = int(0.9*(len(revlist_shuffle)))\n",
        "test_size = int(0.1*(len(revlist_shuffle)))\n",
        "\n",
        "indexes = set(np.random.choice(len(revlist_shuffle), train_size + test_size, replace=False))\n",
        "\n",
        "x_train = np.zeros((train_size, max_no_tokens, vector_size), dtype=K.floatx())\n",
        "y_train = np.zeros((train_size, 2), dtype=np.int32)\n",
        "\n",
        "x_test = np.zeros((test_size, max_no_tokens, vector_size), dtype=K.floatx())\n",
        "y_test = np.zeros((test_size, 2), dtype=np.int32)"
      ],
      "execution_count": 3,
      "outputs": []
    },
    {
      "cell_type": "code",
      "metadata": {
        "id": "jvcGBpjPwFL0",
        "colab": {
          "base_uri": "https://localhost:8080/"
        },
        "outputId": "d974a179-97fd-4d34-8e20-af0e98daf9bb"
      },
      "source": [
        "#@title Fill X_Train, X_Test, Y_Train, Y_Test with Dataset\n",
        "for i, index in enumerate(indexes):\n",
        "  text_words = hazm.word_tokenize(revlist_shuffle[index][0])\n",
        "  for t in range(0,len(text_words)):\n",
        "    if t >= max_no_tokens:\n",
        "      break\n",
        "    \n",
        "    if text_words[t] not in model.words:\n",
        "      continue\n",
        "    if i < train_size:\n",
        "      x_train[i, t, :] = model.get_word_vector(text_words[t])\n",
        "    else:\n",
        "      x_test[i - train_size, t, :] = model.get_word_vector(text_words[t])\n",
        "\n",
        "  if i < train_size:\n",
        "    y_train[i, :] = [1.0, 0.0] if revlist_shuffle[index][1] == 3 else [0.0, 1.0]\n",
        "  else:\n",
        "    y_test[i - train_size, :] = [1.0, 0.0] if revlist_shuffle[index][1] == 3 else [0.0, 1.0]\n",
        "    \n",
        "x_train.shape,x_test.shape,y_train.shape,y_test.shape"
      ],
      "execution_count": 4,
      "outputs": [
        {
          "output_type": "execute_result",
          "data": {
            "text/plain": [
              "((810, 20, 300), (90, 20, 300), (810, 2), (90, 2))"
            ]
          },
          "metadata": {},
          "execution_count": 4
        }
      ]
    },
    {
      "cell_type": "markdown",
      "metadata": {
        "id": "dDunM15J7n8E"
      },
      "source": [
        "## Step C) Preparing LSTM model\n",
        "Now we will create our LSTM model then feed it our Train data and boom!"
      ]
    },
    {
      "cell_type": "code",
      "metadata": {
        "id": "_Mbfwpab3Yb8"
      },
      "source": [
        "#@title Set batchSize and epochs\n",
        "batch_size = 500 #@param {type:\"integer\"}\n",
        "no_epochs =  200 #@param {type:\"integer\"}\n",
        "w2v_model = model\n",
        "del model"
      ],
      "execution_count": 5,
      "outputs": []
    },
    {
      "cell_type": "code",
      "metadata": {
        "id": "J1z_mq913jTq",
        "colab": {
          "base_uri": "https://localhost:8080/"
        },
        "outputId": "5a32bc82-18ce-4c35-a458-f40caa1bd6f6"
      },
      "source": [
        "#@title Building LSTM Model\n",
        "from keras.models import Sequential\n",
        "from keras.layers import Conv1D, Dropout, Dense, Flatten, LSTM, MaxPooling1D, Bidirectional\n",
        "from tensorflow.keras.optimizers import Adam\n",
        "from keras.callbacks import EarlyStopping, TensorBoard\n",
        "\n",
        "\n",
        "model = Sequential()\n",
        "\n",
        "model.add(Conv1D(32, kernel_size=3, activation='elu', padding='same',\n",
        "                 input_shape=(max_no_tokens, vector_size)))\n",
        "model.add(Conv1D(32, kernel_size=3, activation='elu', padding='same'))\n",
        "model.add(Conv1D(32, kernel_size=3, activation='relu', padding='same'))\n",
        "model.add(MaxPooling1D(pool_size=3))\n",
        "\n",
        "model.add(Bidirectional(LSTM(512, dropout=0.2, recurrent_dropout=0.3)))\n",
        "\n",
        "model.add(Dense(512, activation='sigmoid'))\n",
        "model.add(Dropout(0.2))\n",
        "model.add(Dense(512, activation='sigmoid'))\n",
        "model.add(Dropout(0.25))\n",
        "model.add(Dense(512, activation='sigmoid'))\n",
        "model.add(Dropout(0.25))\n",
        "\n",
        "model.add(Dense(2, activation='softmax'))\n",
        "\n",
        "model.compile(loss='categorical_crossentropy', optimizer=Adam(lr=0.0001, decay=1e-6), metrics=['accuracy'])\n",
        "\n",
        "# tensorboard = TensorBoard(log_dir='logs/', histogram_freq=0, write_graph=True, write_images=True)\n",
        "\n",
        "model.summary()"
      ],
      "execution_count": 6,
      "outputs": [
        {
          "output_type": "stream",
          "name": "stdout",
          "text": [
            "WARNING:tensorflow:Layer lstm will not use cuDNN kernels since it doesn't meet the criteria. It will use a generic GPU kernel as fallback when running on GPU.\n",
            "WARNING:tensorflow:Layer lstm will not use cuDNN kernels since it doesn't meet the criteria. It will use a generic GPU kernel as fallback when running on GPU.\n",
            "WARNING:tensorflow:Layer lstm will not use cuDNN kernels since it doesn't meet the criteria. It will use a generic GPU kernel as fallback when running on GPU.\n",
            "Model: \"sequential\"\n",
            "_________________________________________________________________\n",
            " Layer (type)                Output Shape              Param #   \n",
            "=================================================================\n",
            " conv1d (Conv1D)             (None, 20, 32)            28832     \n",
            "                                                                 \n",
            " conv1d_1 (Conv1D)           (None, 20, 32)            3104      \n",
            "                                                                 \n",
            " conv1d_2 (Conv1D)           (None, 20, 32)            3104      \n",
            "                                                                 \n",
            " max_pooling1d (MaxPooling1D  (None, 6, 32)            0         \n",
            " )                                                               \n",
            "                                                                 \n",
            " bidirectional (Bidirectiona  (None, 1024)             2232320   \n",
            " l)                                                              \n",
            "                                                                 \n",
            " dense (Dense)               (None, 512)               524800    \n",
            "                                                                 \n",
            " dropout (Dropout)           (None, 512)               0         \n",
            "                                                                 \n",
            " dense_1 (Dense)             (None, 512)               262656    \n",
            "                                                                 \n",
            " dropout_1 (Dropout)         (None, 512)               0         \n",
            "                                                                 \n",
            " dense_2 (Dense)             (None, 512)               262656    \n",
            "                                                                 \n",
            " dropout_2 (Dropout)         (None, 512)               0         \n",
            "                                                                 \n",
            " dense_3 (Dense)             (None, 2)                 1026      \n",
            "                                                                 \n",
            "=================================================================\n",
            "Total params: 3,318,498\n",
            "Trainable params: 3,318,498\n",
            "Non-trainable params: 0\n",
            "_________________________________________________________________\n"
          ]
        },
        {
          "output_type": "stream",
          "name": "stderr",
          "text": [
            "/usr/local/lib/python3.7/dist-packages/keras/optimizer_v2/adam.py:105: UserWarning: The `lr` argument is deprecated, use `learning_rate` instead.\n",
            "  super(Adam, self).__init__(name, **kwargs)\n"
          ]
        }
      ]
    },
    {
      "cell_type": "code",
      "metadata": {
        "id": "P9qfU9CM3mL-",
        "colab": {
          "base_uri": "https://localhost:8080/"
        },
        "outputId": "0637b704-ad1d-4519-e2c1-0646387e6c57"
      },
      "source": [
        "history = model.fit(x_train, y_train, batch_size=batch_size, shuffle=True, epochs=no_epochs,\n",
        "         validation_data=(x_test, y_test))"
      ],
      "execution_count": 7,
      "outputs": [
        {
          "output_type": "stream",
          "name": "stdout",
          "text": [
            "Epoch 1/200\n",
            "2/2 [==============================] - 17s 1s/step - loss: 0.8414 - accuracy: 0.5136 - val_loss: 0.7320 - val_accuracy: 0.4667\n",
            "Epoch 2/200\n",
            "2/2 [==============================] - 0s 199ms/step - loss: 0.7423 - accuracy: 0.5136 - val_loss: 0.6910 - val_accuracy: 0.5333\n",
            "Epoch 3/200\n",
            "2/2 [==============================] - 0s 225ms/step - loss: 0.7523 - accuracy: 0.4889 - val_loss: 0.7039 - val_accuracy: 0.5333\n",
            "Epoch 4/200\n",
            "2/2 [==============================] - 0s 192ms/step - loss: 0.7619 - accuracy: 0.4975 - val_loss: 0.7098 - val_accuracy: 0.5333\n",
            "Epoch 5/200\n",
            "2/2 [==============================] - 0s 200ms/step - loss: 0.7516 - accuracy: 0.5185 - val_loss: 0.6991 - val_accuracy: 0.5333\n",
            "Epoch 6/200\n",
            "2/2 [==============================] - 0s 198ms/step - loss: 0.7335 - accuracy: 0.5111 - val_loss: 0.6912 - val_accuracy: 0.5333\n",
            "Epoch 7/200\n",
            "2/2 [==============================] - 0s 203ms/step - loss: 0.7460 - accuracy: 0.4827 - val_loss: 0.6946 - val_accuracy: 0.4667\n",
            "Epoch 8/200\n",
            "2/2 [==============================] - 0s 203ms/step - loss: 0.7275 - accuracy: 0.5136 - val_loss: 0.7051 - val_accuracy: 0.4667\n",
            "Epoch 9/200\n",
            "2/2 [==============================] - 0s 200ms/step - loss: 0.7526 - accuracy: 0.4926 - val_loss: 0.7108 - val_accuracy: 0.4667\n",
            "Epoch 10/200\n",
            "2/2 [==============================] - 0s 192ms/step - loss: 0.7239 - accuracy: 0.5123 - val_loss: 0.7078 - val_accuracy: 0.4667\n",
            "Epoch 11/200\n",
            "2/2 [==============================] - 0s 214ms/step - loss: 0.7437 - accuracy: 0.5037 - val_loss: 0.7003 - val_accuracy: 0.4667\n",
            "Epoch 12/200\n",
            "2/2 [==============================] - 0s 197ms/step - loss: 0.7569 - accuracy: 0.4802 - val_loss: 0.6938 - val_accuracy: 0.4667\n",
            "Epoch 13/200\n",
            "2/2 [==============================] - 0s 207ms/step - loss: 0.7238 - accuracy: 0.5160 - val_loss: 0.6911 - val_accuracy: 0.5333\n",
            "Epoch 14/200\n",
            "2/2 [==============================] - 0s 221ms/step - loss: 0.7458 - accuracy: 0.4827 - val_loss: 0.6909 - val_accuracy: 0.5333\n",
            "Epoch 15/200\n",
            "2/2 [==============================] - 0s 199ms/step - loss: 0.7316 - accuracy: 0.5074 - val_loss: 0.6910 - val_accuracy: 0.5333\n",
            "Epoch 16/200\n",
            "2/2 [==============================] - 0s 203ms/step - loss: 0.7319 - accuracy: 0.5025 - val_loss: 0.6918 - val_accuracy: 0.5333\n",
            "Epoch 17/200\n",
            "2/2 [==============================] - 0s 218ms/step - loss: 0.7359 - accuracy: 0.5185 - val_loss: 0.6936 - val_accuracy: 0.4667\n",
            "Epoch 18/200\n",
            "2/2 [==============================] - 0s 196ms/step - loss: 0.7393 - accuracy: 0.4827 - val_loss: 0.6956 - val_accuracy: 0.4667\n",
            "Epoch 19/200\n",
            "2/2 [==============================] - 0s 208ms/step - loss: 0.7421 - accuracy: 0.4975 - val_loss: 0.6956 - val_accuracy: 0.4667\n",
            "Epoch 20/200\n",
            "2/2 [==============================] - 0s 201ms/step - loss: 0.7247 - accuracy: 0.5247 - val_loss: 0.6939 - val_accuracy: 0.4667\n",
            "Epoch 21/200\n",
            "2/2 [==============================] - 0s 212ms/step - loss: 0.7148 - accuracy: 0.5235 - val_loss: 0.6922 - val_accuracy: 0.5333\n",
            "Epoch 22/200\n",
            "2/2 [==============================] - 0s 207ms/step - loss: 0.7448 - accuracy: 0.4679 - val_loss: 0.6914 - val_accuracy: 0.5333\n",
            "Epoch 23/200\n",
            "2/2 [==============================] - 0s 252ms/step - loss: 0.7267 - accuracy: 0.4901 - val_loss: 0.6914 - val_accuracy: 0.5333\n",
            "Epoch 24/200\n",
            "2/2 [==============================] - 0s 218ms/step - loss: 0.7485 - accuracy: 0.4815 - val_loss: 0.6923 - val_accuracy: 0.5333\n",
            "Epoch 25/200\n",
            "2/2 [==============================] - 0s 210ms/step - loss: 0.7382 - accuracy: 0.4951 - val_loss: 0.6938 - val_accuracy: 0.4667\n",
            "Epoch 26/200\n",
            "2/2 [==============================] - 0s 199ms/step - loss: 0.7070 - accuracy: 0.5333 - val_loss: 0.6954 - val_accuracy: 0.4667\n",
            "Epoch 27/200\n",
            "2/2 [==============================] - 0s 219ms/step - loss: 0.7352 - accuracy: 0.5173 - val_loss: 0.6955 - val_accuracy: 0.4667\n",
            "Epoch 28/200\n",
            "2/2 [==============================] - 0s 201ms/step - loss: 0.7264 - accuracy: 0.5000 - val_loss: 0.6944 - val_accuracy: 0.4667\n",
            "Epoch 29/200\n",
            "2/2 [==============================] - 0s 203ms/step - loss: 0.7405 - accuracy: 0.4975 - val_loss: 0.6929 - val_accuracy: 0.4667\n",
            "Epoch 30/200\n",
            "2/2 [==============================] - 0s 225ms/step - loss: 0.7232 - accuracy: 0.5198 - val_loss: 0.6924 - val_accuracy: 0.7000\n",
            "Epoch 31/200\n",
            "2/2 [==============================] - 0s 199ms/step - loss: 0.7269 - accuracy: 0.4963 - val_loss: 0.6921 - val_accuracy: 0.5667\n",
            "Epoch 32/200\n",
            "2/2 [==============================] - 0s 212ms/step - loss: 0.7196 - accuracy: 0.5210 - val_loss: 0.6914 - val_accuracy: 0.5333\n",
            "Epoch 33/200\n",
            "2/2 [==============================] - 0s 225ms/step - loss: 0.7351 - accuracy: 0.5148 - val_loss: 0.6913 - val_accuracy: 0.5333\n",
            "Epoch 34/200\n",
            "2/2 [==============================] - 0s 207ms/step - loss: 0.7352 - accuracy: 0.5000 - val_loss: 0.6921 - val_accuracy: 0.4889\n",
            "Epoch 35/200\n",
            "2/2 [==============================] - 0s 199ms/step - loss: 0.7288 - accuracy: 0.5037 - val_loss: 0.6917 - val_accuracy: 0.5111\n",
            "Epoch 36/200\n",
            "2/2 [==============================] - 0s 201ms/step - loss: 0.7248 - accuracy: 0.5049 - val_loss: 0.6914 - val_accuracy: 0.5111\n",
            "Epoch 37/200\n",
            "2/2 [==============================] - 0s 206ms/step - loss: 0.7390 - accuracy: 0.4778 - val_loss: 0.6910 - val_accuracy: 0.5111\n",
            "Epoch 38/200\n",
            "2/2 [==============================] - 0s 199ms/step - loss: 0.7401 - accuracy: 0.4716 - val_loss: 0.6897 - val_accuracy: 0.6889\n",
            "Epoch 39/200\n",
            "2/2 [==============================] - 0s 206ms/step - loss: 0.7126 - accuracy: 0.5123 - val_loss: 0.6880 - val_accuracy: 0.5778\n",
            "Epoch 40/200\n",
            "2/2 [==============================] - 0s 221ms/step - loss: 0.7292 - accuracy: 0.5111 - val_loss: 0.6863 - val_accuracy: 0.5333\n",
            "Epoch 41/200\n",
            "2/2 [==============================] - 0s 194ms/step - loss: 0.7097 - accuracy: 0.5148 - val_loss: 0.6848 - val_accuracy: 0.5444\n",
            "Epoch 42/200\n",
            "2/2 [==============================] - 0s 228ms/step - loss: 0.7237 - accuracy: 0.5148 - val_loss: 0.6841 - val_accuracy: 0.7222\n",
            "Epoch 43/200\n",
            "2/2 [==============================] - 0s 202ms/step - loss: 0.7183 - accuracy: 0.5309 - val_loss: 0.6845 - val_accuracy: 0.5444\n",
            "Epoch 44/200\n",
            "2/2 [==============================] - 0s 230ms/step - loss: 0.7283 - accuracy: 0.4975 - val_loss: 0.6829 - val_accuracy: 0.5111\n",
            "Epoch 45/200\n",
            "2/2 [==============================] - 0s 205ms/step - loss: 0.7230 - accuracy: 0.5173 - val_loss: 0.6782 - val_accuracy: 0.5778\n",
            "Epoch 46/200\n",
            "2/2 [==============================] - 0s 204ms/step - loss: 0.7098 - accuracy: 0.5062 - val_loss: 0.6710 - val_accuracy: 0.6333\n",
            "Epoch 47/200\n",
            "2/2 [==============================] - 0s 209ms/step - loss: 0.7131 - accuracy: 0.5284 - val_loss: 0.6624 - val_accuracy: 0.7333\n",
            "Epoch 48/200\n",
            "2/2 [==============================] - 0s 227ms/step - loss: 0.7003 - accuracy: 0.5407 - val_loss: 0.6526 - val_accuracy: 0.7333\n",
            "Epoch 49/200\n",
            "2/2 [==============================] - 0s 199ms/step - loss: 0.6842 - accuracy: 0.5654 - val_loss: 0.6415 - val_accuracy: 0.7333\n",
            "Epoch 50/200\n",
            "2/2 [==============================] - 0s 217ms/step - loss: 0.6677 - accuracy: 0.6062 - val_loss: 0.6292 - val_accuracy: 0.7222\n",
            "Epoch 51/200\n",
            "2/2 [==============================] - 0s 213ms/step - loss: 0.6609 - accuracy: 0.6086 - val_loss: 0.6158 - val_accuracy: 0.6778\n",
            "Epoch 52/200\n",
            "2/2 [==============================] - 0s 213ms/step - loss: 0.6396 - accuracy: 0.6148 - val_loss: 0.5990 - val_accuracy: 0.6778\n",
            "Epoch 53/200\n",
            "2/2 [==============================] - 0s 219ms/step - loss: 0.6271 - accuracy: 0.6580 - val_loss: 0.5809 - val_accuracy: 0.7111\n",
            "Epoch 54/200\n",
            "2/2 [==============================] - 0s 200ms/step - loss: 0.6109 - accuracy: 0.6679 - val_loss: 0.5650 - val_accuracy: 0.7222\n",
            "Epoch 55/200\n",
            "2/2 [==============================] - 0s 199ms/step - loss: 0.6004 - accuracy: 0.6963 - val_loss: 0.5539 - val_accuracy: 0.7222\n",
            "Epoch 56/200\n",
            "2/2 [==============================] - 0s 205ms/step - loss: 0.5703 - accuracy: 0.7173 - val_loss: 0.5420 - val_accuracy: 0.7222\n",
            "Epoch 57/200\n",
            "2/2 [==============================] - 0s 202ms/step - loss: 0.5399 - accuracy: 0.7444 - val_loss: 0.5319 - val_accuracy: 0.7333\n",
            "Epoch 58/200\n",
            "2/2 [==============================] - 0s 210ms/step - loss: 0.5273 - accuracy: 0.7543 - val_loss: 0.5249 - val_accuracy: 0.7444\n",
            "Epoch 59/200\n",
            "2/2 [==============================] - 0s 200ms/step - loss: 0.4973 - accuracy: 0.7654 - val_loss: 0.5209 - val_accuracy: 0.7667\n",
            "Epoch 60/200\n",
            "2/2 [==============================] - 0s 197ms/step - loss: 0.4965 - accuracy: 0.7704 - val_loss: 0.5120 - val_accuracy: 0.7778\n",
            "Epoch 61/200\n",
            "2/2 [==============================] - 0s 225ms/step - loss: 0.5107 - accuracy: 0.7765 - val_loss: 0.5012 - val_accuracy: 0.7889\n",
            "Epoch 62/200\n",
            "2/2 [==============================] - 0s 200ms/step - loss: 0.4845 - accuracy: 0.7864 - val_loss: 0.4954 - val_accuracy: 0.8000\n",
            "Epoch 63/200\n",
            "2/2 [==============================] - 0s 226ms/step - loss: 0.4829 - accuracy: 0.7975 - val_loss: 0.5004 - val_accuracy: 0.8000\n",
            "Epoch 64/200\n",
            "2/2 [==============================] - 0s 211ms/step - loss: 0.4733 - accuracy: 0.7988 - val_loss: 0.5026 - val_accuracy: 0.8000\n",
            "Epoch 65/200\n",
            "2/2 [==============================] - 0s 217ms/step - loss: 0.4747 - accuracy: 0.8173 - val_loss: 0.4742 - val_accuracy: 0.8000\n",
            "Epoch 66/200\n",
            "2/2 [==============================] - 0s 203ms/step - loss: 0.4486 - accuracy: 0.8185 - val_loss: 0.4594 - val_accuracy: 0.8111\n",
            "Epoch 67/200\n",
            "2/2 [==============================] - 0s 217ms/step - loss: 0.4636 - accuracy: 0.8000 - val_loss: 0.4635 - val_accuracy: 0.8000\n",
            "Epoch 68/200\n",
            "2/2 [==============================] - 0s 214ms/step - loss: 0.4526 - accuracy: 0.8173 - val_loss: 0.4736 - val_accuracy: 0.8000\n",
            "Epoch 69/200\n",
            "2/2 [==============================] - 0s 197ms/step - loss: 0.4455 - accuracy: 0.8235 - val_loss: 0.4661 - val_accuracy: 0.7889\n",
            "Epoch 70/200\n",
            "2/2 [==============================] - 0s 196ms/step - loss: 0.4375 - accuracy: 0.8321 - val_loss: 0.4495 - val_accuracy: 0.8000\n",
            "Epoch 71/200\n",
            "2/2 [==============================] - 0s 200ms/step - loss: 0.4292 - accuracy: 0.8333 - val_loss: 0.4463 - val_accuracy: 0.8000\n",
            "Epoch 72/200\n",
            "2/2 [==============================] - 0s 219ms/step - loss: 0.4127 - accuracy: 0.8420 - val_loss: 0.4424 - val_accuracy: 0.8000\n",
            "Epoch 73/200\n",
            "2/2 [==============================] - 0s 204ms/step - loss: 0.4266 - accuracy: 0.8284 - val_loss: 0.4363 - val_accuracy: 0.8111\n",
            "Epoch 74/200\n",
            "2/2 [==============================] - 0s 217ms/step - loss: 0.4190 - accuracy: 0.8407 - val_loss: 0.4369 - val_accuracy: 0.8111\n",
            "Epoch 75/200\n",
            "2/2 [==============================] - 0s 202ms/step - loss: 0.4060 - accuracy: 0.8309 - val_loss: 0.4417 - val_accuracy: 0.8111\n",
            "Epoch 76/200\n",
            "2/2 [==============================] - 0s 225ms/step - loss: 0.4119 - accuracy: 0.8395 - val_loss: 0.4399 - val_accuracy: 0.8111\n",
            "Epoch 77/200\n",
            "2/2 [==============================] - 0s 205ms/step - loss: 0.3937 - accuracy: 0.8469 - val_loss: 0.4404 - val_accuracy: 0.8111\n",
            "Epoch 78/200\n",
            "2/2 [==============================] - 0s 194ms/step - loss: 0.4013 - accuracy: 0.8469 - val_loss: 0.4459 - val_accuracy: 0.8111\n",
            "Epoch 79/200\n",
            "2/2 [==============================] - 0s 233ms/step - loss: 0.3779 - accuracy: 0.8580 - val_loss: 0.4432 - val_accuracy: 0.8222\n",
            "Epoch 80/200\n",
            "2/2 [==============================] - 0s 201ms/step - loss: 0.3918 - accuracy: 0.8481 - val_loss: 0.4467 - val_accuracy: 0.8222\n",
            "Epoch 81/200\n",
            "2/2 [==============================] - 0s 198ms/step - loss: 0.3891 - accuracy: 0.8481 - val_loss: 0.4528 - val_accuracy: 0.8222\n",
            "Epoch 82/200\n",
            "2/2 [==============================] - 1s 547ms/step - loss: 0.3761 - accuracy: 0.8580 - val_loss: 0.4509 - val_accuracy: 0.8111\n",
            "Epoch 83/200\n",
            "2/2 [==============================] - 1s 414ms/step - loss: 0.3774 - accuracy: 0.8568 - val_loss: 0.4416 - val_accuracy: 0.8222\n",
            "Epoch 84/200\n",
            "2/2 [==============================] - 0s 287ms/step - loss: 0.3648 - accuracy: 0.8617 - val_loss: 0.4430 - val_accuracy: 0.8111\n",
            "Epoch 85/200\n",
            "2/2 [==============================] - 1s 494ms/step - loss: 0.3669 - accuracy: 0.8667 - val_loss: 0.4493 - val_accuracy: 0.8000\n",
            "Epoch 86/200\n",
            "2/2 [==============================] - 1s 227ms/step - loss: 0.3695 - accuracy: 0.8667 - val_loss: 0.4498 - val_accuracy: 0.8000\n",
            "Epoch 87/200\n",
            "2/2 [==============================] - 1s 578ms/step - loss: 0.3542 - accuracy: 0.8704 - val_loss: 0.4399 - val_accuracy: 0.8111\n",
            "Epoch 88/200\n",
            "2/2 [==============================] - 1s 304ms/step - loss: 0.3564 - accuracy: 0.8667 - val_loss: 0.4404 - val_accuracy: 0.8111\n",
            "Epoch 89/200\n",
            "2/2 [==============================] - 0s 210ms/step - loss: 0.3417 - accuracy: 0.8728 - val_loss: 0.4435 - val_accuracy: 0.8222\n",
            "Epoch 90/200\n",
            "2/2 [==============================] - 0s 205ms/step - loss: 0.3438 - accuracy: 0.8704 - val_loss: 0.4522 - val_accuracy: 0.8000\n",
            "Epoch 91/200\n",
            "2/2 [==============================] - 0s 200ms/step - loss: 0.3429 - accuracy: 0.8815 - val_loss: 0.4413 - val_accuracy: 0.8222\n",
            "Epoch 92/200\n",
            "2/2 [==============================] - 0s 234ms/step - loss: 0.3448 - accuracy: 0.8802 - val_loss: 0.4462 - val_accuracy: 0.8111\n",
            "Epoch 93/200\n",
            "2/2 [==============================] - 0s 205ms/step - loss: 0.3321 - accuracy: 0.8827 - val_loss: 0.4488 - val_accuracy: 0.8111\n",
            "Epoch 94/200\n",
            "2/2 [==============================] - 0s 219ms/step - loss: 0.3242 - accuracy: 0.8889 - val_loss: 0.4692 - val_accuracy: 0.8111\n",
            "Epoch 95/200\n",
            "2/2 [==============================] - 0s 211ms/step - loss: 0.3150 - accuracy: 0.8889 - val_loss: 0.4736 - val_accuracy: 0.8222\n",
            "Epoch 96/200\n",
            "2/2 [==============================] - 0s 206ms/step - loss: 0.3275 - accuracy: 0.8753 - val_loss: 0.4560 - val_accuracy: 0.8111\n",
            "Epoch 97/200\n",
            "2/2 [==============================] - 0s 208ms/step - loss: 0.3093 - accuracy: 0.8951 - val_loss: 0.4574 - val_accuracy: 0.8111\n",
            "Epoch 98/200\n",
            "2/2 [==============================] - 0s 238ms/step - loss: 0.3073 - accuracy: 0.8963 - val_loss: 0.4762 - val_accuracy: 0.8222\n",
            "Epoch 99/200\n",
            "2/2 [==============================] - 0s 205ms/step - loss: 0.3080 - accuracy: 0.8951 - val_loss: 0.4788 - val_accuracy: 0.8222\n",
            "Epoch 100/200\n",
            "2/2 [==============================] - 0s 195ms/step - loss: 0.2991 - accuracy: 0.8988 - val_loss: 0.4707 - val_accuracy: 0.8111\n",
            "Epoch 101/200\n",
            "2/2 [==============================] - 0s 224ms/step - loss: 0.3084 - accuracy: 0.8926 - val_loss: 0.4740 - val_accuracy: 0.8111\n",
            "Epoch 102/200\n",
            "2/2 [==============================] - 0s 202ms/step - loss: 0.2906 - accuracy: 0.9049 - val_loss: 0.4847 - val_accuracy: 0.8333\n",
            "Epoch 103/200\n",
            "2/2 [==============================] - 0s 283ms/step - loss: 0.2924 - accuracy: 0.8988 - val_loss: 0.4789 - val_accuracy: 0.8111\n",
            "Epoch 104/200\n",
            "2/2 [==============================] - 0s 224ms/step - loss: 0.2957 - accuracy: 0.8938 - val_loss: 0.4921 - val_accuracy: 0.8333\n",
            "Epoch 105/200\n",
            "2/2 [==============================] - 1s 219ms/step - loss: 0.2774 - accuracy: 0.9099 - val_loss: 0.5000 - val_accuracy: 0.8333\n",
            "Epoch 106/200\n",
            "2/2 [==============================] - 0s 198ms/step - loss: 0.2803 - accuracy: 0.9025 - val_loss: 0.4923 - val_accuracy: 0.8222\n",
            "Epoch 107/200\n",
            "2/2 [==============================] - 0s 225ms/step - loss: 0.2696 - accuracy: 0.9074 - val_loss: 0.4947 - val_accuracy: 0.8222\n",
            "Epoch 108/200\n",
            "2/2 [==============================] - 0s 207ms/step - loss: 0.2746 - accuracy: 0.9025 - val_loss: 0.5001 - val_accuracy: 0.8222\n",
            "Epoch 109/200\n",
            "2/2 [==============================] - 0s 208ms/step - loss: 0.2669 - accuracy: 0.9099 - val_loss: 0.5045 - val_accuracy: 0.8222\n",
            "Epoch 110/200\n",
            "2/2 [==============================] - 0s 232ms/step - loss: 0.2581 - accuracy: 0.9037 - val_loss: 0.5093 - val_accuracy: 0.8222\n",
            "Epoch 111/200\n",
            "2/2 [==============================] - 0s 224ms/step - loss: 0.2618 - accuracy: 0.9099 - val_loss: 0.5139 - val_accuracy: 0.8111\n",
            "Epoch 112/200\n",
            "2/2 [==============================] - 0s 214ms/step - loss: 0.2752 - accuracy: 0.9025 - val_loss: 0.5253 - val_accuracy: 0.8111\n",
            "Epoch 113/200\n",
            "2/2 [==============================] - 0s 231ms/step - loss: 0.2427 - accuracy: 0.9123 - val_loss: 0.5341 - val_accuracy: 0.8111\n",
            "Epoch 114/200\n",
            "2/2 [==============================] - 0s 204ms/step - loss: 0.2431 - accuracy: 0.9173 - val_loss: 0.5318 - val_accuracy: 0.8111\n",
            "Epoch 115/200\n",
            "2/2 [==============================] - 0s 229ms/step - loss: 0.2404 - accuracy: 0.9185 - val_loss: 0.5356 - val_accuracy: 0.8111\n",
            "Epoch 116/200\n",
            "2/2 [==============================] - 0s 209ms/step - loss: 0.2417 - accuracy: 0.9173 - val_loss: 0.5447 - val_accuracy: 0.8222\n",
            "Epoch 117/200\n",
            "2/2 [==============================] - 0s 208ms/step - loss: 0.2463 - accuracy: 0.9173 - val_loss: 0.5641 - val_accuracy: 0.8000\n",
            "Epoch 118/200\n",
            "2/2 [==============================] - 0s 208ms/step - loss: 0.2460 - accuracy: 0.9086 - val_loss: 0.5621 - val_accuracy: 0.7889\n",
            "Epoch 119/200\n",
            "2/2 [==============================] - 0s 208ms/step - loss: 0.2485 - accuracy: 0.9210 - val_loss: 0.5571 - val_accuracy: 0.8111\n",
            "Epoch 120/200\n",
            "2/2 [==============================] - 0s 217ms/step - loss: 0.2315 - accuracy: 0.9136 - val_loss: 0.5644 - val_accuracy: 0.8000\n",
            "Epoch 121/200\n",
            "2/2 [==============================] - 0s 224ms/step - loss: 0.2285 - accuracy: 0.9148 - val_loss: 0.5756 - val_accuracy: 0.7889\n",
            "Epoch 122/200\n",
            "2/2 [==============================] - 0s 201ms/step - loss: 0.2252 - accuracy: 0.9247 - val_loss: 0.5820 - val_accuracy: 0.7889\n",
            "Epoch 123/200\n",
            "2/2 [==============================] - 0s 199ms/step - loss: 0.2315 - accuracy: 0.9173 - val_loss: 0.5877 - val_accuracy: 0.7889\n",
            "Epoch 124/200\n",
            "2/2 [==============================] - 0s 198ms/step - loss: 0.2224 - accuracy: 0.9321 - val_loss: 0.5942 - val_accuracy: 0.7889\n",
            "Epoch 125/200\n",
            "2/2 [==============================] - 0s 195ms/step - loss: 0.2110 - accuracy: 0.9272 - val_loss: 0.5955 - val_accuracy: 0.7778\n",
            "Epoch 126/200\n",
            "2/2 [==============================] - 0s 199ms/step - loss: 0.2308 - accuracy: 0.9235 - val_loss: 0.6054 - val_accuracy: 0.7889\n",
            "Epoch 127/200\n",
            "2/2 [==============================] - 0s 211ms/step - loss: 0.2239 - accuracy: 0.9259 - val_loss: 0.6072 - val_accuracy: 0.7889\n",
            "Epoch 128/200\n",
            "2/2 [==============================] - 0s 232ms/step - loss: 0.2193 - accuracy: 0.9222 - val_loss: 0.6165 - val_accuracy: 0.7889\n",
            "Epoch 129/200\n",
            "2/2 [==============================] - 0s 219ms/step - loss: 0.2161 - accuracy: 0.9284 - val_loss: 0.6274 - val_accuracy: 0.7889\n",
            "Epoch 130/200\n",
            "2/2 [==============================] - 0s 231ms/step - loss: 0.2106 - accuracy: 0.9259 - val_loss: 0.6242 - val_accuracy: 0.7889\n",
            "Epoch 131/200\n",
            "2/2 [==============================] - 0s 209ms/step - loss: 0.2046 - accuracy: 0.9383 - val_loss: 0.6293 - val_accuracy: 0.7778\n",
            "Epoch 132/200\n",
            "2/2 [==============================] - 0s 227ms/step - loss: 0.2069 - accuracy: 0.9296 - val_loss: 0.6389 - val_accuracy: 0.7778\n",
            "Epoch 133/200\n",
            "2/2 [==============================] - 0s 234ms/step - loss: 0.1904 - accuracy: 0.9420 - val_loss: 0.6374 - val_accuracy: 0.7889\n",
            "Epoch 134/200\n",
            "2/2 [==============================] - 0s 203ms/step - loss: 0.1893 - accuracy: 0.9432 - val_loss: 0.6416 - val_accuracy: 0.7889\n",
            "Epoch 135/200\n",
            "2/2 [==============================] - 0s 203ms/step - loss: 0.1873 - accuracy: 0.9383 - val_loss: 0.6502 - val_accuracy: 0.7778\n",
            "Epoch 136/200\n",
            "2/2 [==============================] - 0s 231ms/step - loss: 0.1855 - accuracy: 0.9407 - val_loss: 0.6532 - val_accuracy: 0.7889\n",
            "Epoch 137/200\n",
            "2/2 [==============================] - 0s 206ms/step - loss: 0.1933 - accuracy: 0.9333 - val_loss: 0.6607 - val_accuracy: 0.7667\n",
            "Epoch 138/200\n",
            "2/2 [==============================] - 0s 205ms/step - loss: 0.1926 - accuracy: 0.9358 - val_loss: 0.6685 - val_accuracy: 0.7667\n",
            "Epoch 139/200\n",
            "2/2 [==============================] - 0s 199ms/step - loss: 0.1996 - accuracy: 0.9370 - val_loss: 0.6747 - val_accuracy: 0.7778\n",
            "Epoch 140/200\n",
            "2/2 [==============================] - 0s 199ms/step - loss: 0.1823 - accuracy: 0.9444 - val_loss: 0.6725 - val_accuracy: 0.7778\n",
            "Epoch 141/200\n",
            "2/2 [==============================] - 0s 232ms/step - loss: 0.1944 - accuracy: 0.9333 - val_loss: 0.6719 - val_accuracy: 0.7778\n",
            "Epoch 142/200\n",
            "2/2 [==============================] - 0s 200ms/step - loss: 0.1780 - accuracy: 0.9469 - val_loss: 0.6794 - val_accuracy: 0.7778\n",
            "Epoch 143/200\n",
            "2/2 [==============================] - 0s 204ms/step - loss: 0.1759 - accuracy: 0.9469 - val_loss: 0.6847 - val_accuracy: 0.7778\n",
            "Epoch 144/200\n",
            "2/2 [==============================] - 0s 217ms/step - loss: 0.1778 - accuracy: 0.9457 - val_loss: 0.6797 - val_accuracy: 0.7778\n",
            "Epoch 145/200\n",
            "2/2 [==============================] - 0s 210ms/step - loss: 0.1828 - accuracy: 0.9407 - val_loss: 0.6810 - val_accuracy: 0.7778\n",
            "Epoch 146/200\n",
            "2/2 [==============================] - 0s 215ms/step - loss: 0.1765 - accuracy: 0.9420 - val_loss: 0.6778 - val_accuracy: 0.8000\n",
            "Epoch 147/200\n",
            "2/2 [==============================] - 0s 218ms/step - loss: 0.1815 - accuracy: 0.9407 - val_loss: 0.6742 - val_accuracy: 0.7889\n",
            "Epoch 148/200\n",
            "2/2 [==============================] - 0s 236ms/step - loss: 0.1654 - accuracy: 0.9519 - val_loss: 0.6696 - val_accuracy: 0.7889\n",
            "Epoch 149/200\n",
            "2/2 [==============================] - 0s 205ms/step - loss: 0.1633 - accuracy: 0.9481 - val_loss: 0.6724 - val_accuracy: 0.7889\n",
            "Epoch 150/200\n",
            "2/2 [==============================] - 0s 206ms/step - loss: 0.1811 - accuracy: 0.9370 - val_loss: 0.6741 - val_accuracy: 0.7778\n",
            "Epoch 151/200\n",
            "2/2 [==============================] - 0s 194ms/step - loss: 0.1693 - accuracy: 0.9444 - val_loss: 0.6763 - val_accuracy: 0.7778\n",
            "Epoch 152/200\n",
            "2/2 [==============================] - 0s 201ms/step - loss: 0.1619 - accuracy: 0.9519 - val_loss: 0.6768 - val_accuracy: 0.7889\n",
            "Epoch 153/200\n",
            "2/2 [==============================] - 0s 208ms/step - loss: 0.1844 - accuracy: 0.9444 - val_loss: 0.6758 - val_accuracy: 0.8000\n",
            "Epoch 154/200\n",
            "2/2 [==============================] - 0s 237ms/step - loss: 0.1597 - accuracy: 0.9494 - val_loss: 0.6731 - val_accuracy: 0.7667\n",
            "Epoch 155/200\n",
            "2/2 [==============================] - 0s 207ms/step - loss: 0.1739 - accuracy: 0.9469 - val_loss: 0.6713 - val_accuracy: 0.7778\n",
            "Epoch 156/200\n",
            "2/2 [==============================] - 0s 214ms/step - loss: 0.1661 - accuracy: 0.9481 - val_loss: 0.6657 - val_accuracy: 0.7778\n",
            "Epoch 157/200\n",
            "2/2 [==============================] - 0s 201ms/step - loss: 0.1626 - accuracy: 0.9407 - val_loss: 0.6617 - val_accuracy: 0.7778\n",
            "Epoch 158/200\n",
            "2/2 [==============================] - 0s 201ms/step - loss: 0.1577 - accuracy: 0.9506 - val_loss: 0.6608 - val_accuracy: 0.7667\n",
            "Epoch 159/200\n",
            "2/2 [==============================] - 0s 236ms/step - loss: 0.1684 - accuracy: 0.9469 - val_loss: 0.6662 - val_accuracy: 0.7889\n",
            "Epoch 160/200\n",
            "2/2 [==============================] - 0s 202ms/step - loss: 0.1639 - accuracy: 0.9494 - val_loss: 0.6592 - val_accuracy: 0.7667\n",
            "Epoch 161/200\n",
            "2/2 [==============================] - 0s 203ms/step - loss: 0.1622 - accuracy: 0.9506 - val_loss: 0.6625 - val_accuracy: 0.7778\n",
            "Epoch 162/200\n",
            "2/2 [==============================] - 0s 231ms/step - loss: 0.1754 - accuracy: 0.9432 - val_loss: 0.6605 - val_accuracy: 0.7778\n",
            "Epoch 163/200\n",
            "2/2 [==============================] - 0s 212ms/step - loss: 0.1665 - accuracy: 0.9432 - val_loss: 0.6630 - val_accuracy: 0.7889\n",
            "Epoch 164/200\n",
            "2/2 [==============================] - 0s 210ms/step - loss: 0.1592 - accuracy: 0.9543 - val_loss: 0.6612 - val_accuracy: 0.7889\n",
            "Epoch 165/200\n",
            "2/2 [==============================] - 0s 227ms/step - loss: 0.1573 - accuracy: 0.9580 - val_loss: 0.6635 - val_accuracy: 0.7778\n",
            "Epoch 166/200\n",
            "2/2 [==============================] - 0s 204ms/step - loss: 0.1529 - accuracy: 0.9519 - val_loss: 0.6605 - val_accuracy: 0.7889\n",
            "Epoch 167/200\n",
            "2/2 [==============================] - 0s 207ms/step - loss: 0.1479 - accuracy: 0.9605 - val_loss: 0.6617 - val_accuracy: 0.8000\n",
            "Epoch 168/200\n",
            "2/2 [==============================] - 0s 228ms/step - loss: 0.1657 - accuracy: 0.9494 - val_loss: 0.6586 - val_accuracy: 0.7889\n",
            "Epoch 169/200\n",
            "2/2 [==============================] - 0s 206ms/step - loss: 0.1500 - accuracy: 0.9556 - val_loss: 0.6573 - val_accuracy: 0.7889\n",
            "Epoch 170/200\n",
            "2/2 [==============================] - 0s 226ms/step - loss: 0.1502 - accuracy: 0.9519 - val_loss: 0.6586 - val_accuracy: 0.8000\n",
            "Epoch 171/200\n",
            "2/2 [==============================] - 0s 209ms/step - loss: 0.1539 - accuracy: 0.9556 - val_loss: 0.6560 - val_accuracy: 0.7889\n",
            "Epoch 172/200\n",
            "2/2 [==============================] - 0s 201ms/step - loss: 0.1406 - accuracy: 0.9617 - val_loss: 0.6624 - val_accuracy: 0.7889\n",
            "Epoch 173/200\n",
            "2/2 [==============================] - 0s 203ms/step - loss: 0.1613 - accuracy: 0.9481 - val_loss: 0.6682 - val_accuracy: 0.7889\n",
            "Epoch 174/200\n",
            "2/2 [==============================] - 0s 211ms/step - loss: 0.1499 - accuracy: 0.9556 - val_loss: 0.6601 - val_accuracy: 0.7889\n",
            "Epoch 175/200\n",
            "2/2 [==============================] - 0s 206ms/step - loss: 0.1453 - accuracy: 0.9605 - val_loss: 0.6525 - val_accuracy: 0.7778\n",
            "Epoch 176/200\n",
            "2/2 [==============================] - 0s 235ms/step - loss: 0.1478 - accuracy: 0.9519 - val_loss: 0.6532 - val_accuracy: 0.7778\n",
            "Epoch 177/200\n",
            "2/2 [==============================] - 0s 203ms/step - loss: 0.1541 - accuracy: 0.9519 - val_loss: 0.6646 - val_accuracy: 0.7889\n",
            "Epoch 178/200\n",
            "2/2 [==============================] - 0s 202ms/step - loss: 0.1453 - accuracy: 0.9519 - val_loss: 0.6722 - val_accuracy: 0.7889\n",
            "Epoch 179/200\n",
            "2/2 [==============================] - 0s 206ms/step - loss: 0.1479 - accuracy: 0.9580 - val_loss: 0.6740 - val_accuracy: 0.7889\n",
            "Epoch 180/200\n",
            "2/2 [==============================] - 0s 219ms/step - loss: 0.1382 - accuracy: 0.9580 - val_loss: 0.6694 - val_accuracy: 0.7778\n",
            "Epoch 181/200\n",
            "2/2 [==============================] - 0s 199ms/step - loss: 0.1525 - accuracy: 0.9580 - val_loss: 0.6727 - val_accuracy: 0.7667\n",
            "Epoch 182/200\n",
            "2/2 [==============================] - 0s 228ms/step - loss: 0.1405 - accuracy: 0.9580 - val_loss: 0.6774 - val_accuracy: 0.7667\n",
            "Epoch 183/200\n",
            "2/2 [==============================] - 0s 202ms/step - loss: 0.1448 - accuracy: 0.9568 - val_loss: 0.6858 - val_accuracy: 0.7889\n",
            "Epoch 184/200\n",
            "2/2 [==============================] - 0s 198ms/step - loss: 0.1387 - accuracy: 0.9630 - val_loss: 0.6964 - val_accuracy: 0.7889\n",
            "Epoch 185/200\n",
            "2/2 [==============================] - 0s 217ms/step - loss: 0.1346 - accuracy: 0.9556 - val_loss: 0.6816 - val_accuracy: 0.7889\n",
            "Epoch 186/200\n",
            "2/2 [==============================] - 0s 207ms/step - loss: 0.1349 - accuracy: 0.9605 - val_loss: 0.6779 - val_accuracy: 0.7556\n",
            "Epoch 187/200\n",
            "2/2 [==============================] - 0s 198ms/step - loss: 0.1344 - accuracy: 0.9617 - val_loss: 0.6818 - val_accuracy: 0.7889\n",
            "Epoch 188/200\n",
            "2/2 [==============================] - 0s 238ms/step - loss: 0.1312 - accuracy: 0.9630 - val_loss: 0.6784 - val_accuracy: 0.7667\n",
            "Epoch 189/200\n",
            "2/2 [==============================] - 0s 199ms/step - loss: 0.1271 - accuracy: 0.9667 - val_loss: 0.6993 - val_accuracy: 0.7889\n",
            "Epoch 190/200\n",
            "2/2 [==============================] - 0s 227ms/step - loss: 0.1331 - accuracy: 0.9617 - val_loss: 0.7017 - val_accuracy: 0.7889\n",
            "Epoch 191/200\n",
            "2/2 [==============================] - 0s 200ms/step - loss: 0.1261 - accuracy: 0.9630 - val_loss: 0.6803 - val_accuracy: 0.7667\n",
            "Epoch 192/200\n",
            "2/2 [==============================] - 0s 221ms/step - loss: 0.1378 - accuracy: 0.9556 - val_loss: 0.6776 - val_accuracy: 0.7778\n",
            "Epoch 193/200\n",
            "2/2 [==============================] - 0s 224ms/step - loss: 0.1329 - accuracy: 0.9654 - val_loss: 0.6861 - val_accuracy: 0.7889\n",
            "Epoch 194/200\n",
            "2/2 [==============================] - 0s 207ms/step - loss: 0.1296 - accuracy: 0.9593 - val_loss: 0.7008 - val_accuracy: 0.7778\n",
            "Epoch 195/200\n",
            "2/2 [==============================] - 0s 200ms/step - loss: 0.1190 - accuracy: 0.9630 - val_loss: 0.6985 - val_accuracy: 0.7889\n",
            "Epoch 196/200\n",
            "2/2 [==============================] - 0s 210ms/step - loss: 0.1266 - accuracy: 0.9617 - val_loss: 0.6902 - val_accuracy: 0.8000\n",
            "Epoch 197/200\n",
            "2/2 [==============================] - 0s 210ms/step - loss: 0.1305 - accuracy: 0.9617 - val_loss: 0.6948 - val_accuracy: 0.7778\n",
            "Epoch 198/200\n",
            "2/2 [==============================] - 0s 239ms/step - loss: 0.1275 - accuracy: 0.9605 - val_loss: 0.7051 - val_accuracy: 0.7778\n",
            "Epoch 199/200\n",
            "2/2 [==============================] - 0s 211ms/step - loss: 0.1294 - accuracy: 0.9617 - val_loss: 0.6978 - val_accuracy: 0.7778\n",
            "Epoch 200/200\n",
            "2/2 [==============================] - 0s 199ms/step - loss: 0.1196 - accuracy: 0.9667 - val_loss: 0.6972 - val_accuracy: 0.8000\n"
          ]
        }
      ]
    },
    {
      "cell_type": "code",
      "source": [
        "import matplotlib.pyplot as plt\n",
        "trainloss = history.history['loss']\n",
        "valloss = history.history['val_loss']\n",
        "plt.plot(valloss)\n",
        "plt.plot(trainloss)\n",
        "plt.legend(['Validation Loss','Training Loss'])\n",
        "plt.show()"
      ],
      "metadata": {
        "id": "RB3XdnWFFNGf",
        "colab": {
          "base_uri": "https://localhost:8080/",
          "height": 265
        },
        "outputId": "cbdcd6fc-e357-46db-a069-f895b9463f70"
      },
      "execution_count": 8,
      "outputs": [
        {
          "output_type": "display_data",
          "data": {
            "image/png": "[encoded data removed]",
            "text/plain": [
              "<Figure size 432x288 with 1 Axes>"
            ]
          },
          "metadata": {
            "needs_background": "light"
          }
        }
      ]
    },
    {
      "cell_type": "code",
      "metadata": {
        "id": "3TKsHaoO7HpW",
        "colab": {
          "base_uri": "https://localhost:8080/"
        },
        "outputId": "88832578-db5e-4187-cdc6-1895dc918fe1"
      },
      "source": [
        "model.metrics_names"
      ],
      "execution_count": 9,
      "outputs": [
        {
          "output_type": "execute_result",
          "data": {
            "text/plain": [
              "['loss', 'accuracy']"
            ]
          },
          "metadata": {},
          "execution_count": 9
        }
      ]
    },
    {
      "cell_type": "code",
      "metadata": {
        "id": "UpocYJkB7KMs",
        "colab": {
          "base_uri": "https://localhost:8080/"
        },
        "outputId": "95717e2a-809c-4544-e583-44a71813b2a3"
      },
      "source": [
        "model.evaluate(x=x_test, y=y_test, batch_size=32, verbose=1)"
      ],
      "execution_count": 10,
      "outputs": [
        {
          "output_type": "stream",
          "name": "stdout",
          "text": [
            "3/3 [==============================] - 0s 30ms/step - loss: 0.6972 - accuracy: 0.8000\n"
          ]
        },
        {
          "output_type": "execute_result",
          "data": {
            "text/plain": [
              "[0.6971546411514282, 0.800000011920929]"
            ]
          },
          "metadata": {},
          "execution_count": 10
        }
      ]
    },
    {
      "cell_type": "code",
      "metadata": {
        "id": "U5xPkhZX7Qmq",
        "colab": {
          "base_uri": "https://localhost:8080/"
        },
        "outputId": "7ce183f1-1169-4136-ffd8-060bad990806"
      },
      "source": [
        "model.save('persian-sentiment-fasttext.model')"
      ],
      "execution_count": 11,
      "outputs": [
        {
          "output_type": "stream",
          "name": "stdout",
          "text": [
            "INFO:tensorflow:Assets written to: persian-sentiment-fasttext.model/assets\n"
          ]
        },
        {
          "output_type": "stream",
          "name": "stderr",
          "text": [
            "WARNING:absl:<keras.layers.recurrent.LSTMCell object at 0x7fbbb0bdacd0> has the same name 'LSTMCell' as a built-in Keras object. Consider renaming <class 'keras.layers.recurrent.LSTMCell'> to avoid naming conflicts when loading with `tf.keras.models.load_model`. If renaming is not possible, pass the object in the `custom_objects` parameter of the load function.\n",
            "WARNING:absl:<keras.layers.recurrent.LSTMCell object at 0x7fbbb0b903d0> has the same name 'LSTMCell' as a built-in Keras object. Consider renaming <class 'keras.layers.recurrent.LSTMCell'> to avoid naming conflicts when loading with `tf.keras.models.load_model`. If renaming is not possible, pass the object in the `custom_objects` parameter of the load function.\n"
          ]
        }
      ]
    },
    {
      "cell_type": "markdown",
      "metadata": {
        "id": "lJxZj2vr7uMO"
      },
      "source": [
        "# Step D) A simple form to test our tiny shiny model 🤩\n",
        "there is two form but it's just for showcase there is no diff between them."
      ]
    },
    {
      "cell_type": "code",
      "metadata": {
        "id": "xXt5rQ0qmyax",
        "colab": {
          "base_uri": "https://localhost:8080/",
          "height": 125
        },
        "outputId": "d21ee323-000b-464c-d16e-ddde294934ab"
      },
      "source": [
        "user_text = \"\\u062E\\u06CC\\u0644\\u06CC \\u06AF\\u0648\\u0634\\u06CC\\u0647 \\u062E\\u0648\\u0628\\u06CC\\u0647. \\u062A\\u0634\\u062E\\u06CC\\u0635 \\u0686\\u0647\\u0631\\u0647 \\u062F\\u0627\\u0631\\u0647. \\u062F\\u0627\\u062E\\u0644 \\u062C\\u0639\\u0628\\u0647 \\u06A9\\u0627\\u0648\\u0631 \\u06AF\\u0648\\u0634\\u06CC \\u0648 \\u0645\\u062D\\u0627\\u0641\\u0638 \\u0635\\u0641\\u062D\\u0647 \\u062F\\u0627\\u0631\\u0647. \\u0645\\u0646 \\u062F\\u06CC\\u0631\\u0648\\u0632 \\u0628\\u0647 \\u062F\\u0633\\u062A\\u0645 \\u0631\\u0633\\u06CC\\u062F\\u0647 \\u0639\\u0627\\u0644\\u06CC\\u0647 \\u0645\\u0631\\u0633\\u06CC \\u0627\\u0632 \\u062F\\u06CC\\u062C\\u06CC \\u06A9\\u0627\\u0644\\u0627\" #@param {type:\"string\"}\n",
        "from IPython.core.display import display, HTML\n",
        "_normalizer = hazm.Normalizer()\n",
        "if not user_text==\"\":\n",
        "  text_for_test = _normalizer.normalize(user_text)\n",
        "  text_for_test_words = hazm.word_tokenize(text_for_test)\n",
        "  x_text_for_test_words = np.zeros((1,max_no_tokens,vector_size),dtype=K.floatx())\n",
        "  for t in range(0,len(text_for_test_words)):\n",
        "    if t >= max_no_tokens:\n",
        "      break\n",
        "    if text_for_test_words[t] not in w2v_model.words:\n",
        "      continue\n",
        "    \n",
        "    x_text_for_test_words[0, t, :] = w2v_model.get_word_vector(text_for_test_words[t])\n",
        "  # print(x_text_for_test_words.shape)\n",
        "  # print(text_for_test_words)\n",
        "  result = model.predict(x_text_for_test_words)\n",
        "  pos_percent = str(int(result[0][1]*100))+\" % \"\n",
        "  neg_percent = str(int(result[0][0]*100))+\" % \"\n",
        "  display(HTML(\"<div style='text-align: center'><div style='display:inline-block'><img height='64px' width='64px' src='https://img.icons8.com/external-tulpahn-outline-color-tulpahn/64/000000/external-sad-emotion-tulpahn-outline-color-tulpahn-1.png'/><h4>{}</h4></div> | <div style='display:inline-block'><img height='64px' width='64px' src='https://img.icons8.com/external-tulpahn-outline-color-tulpahn/64/000000/external-happy-emotion-tulpahn-outline-color-tulpahn.png'/><h4>{}</h4></div></div>\".format(neg_percent,pos_percent)))\n",
        "else:\n",
        "  print(\"Please enter your text\")"
      ],
      "execution_count": 16,
      "outputs": [
        {
          "output_type": "display_data",
          "data": {
            "text/html": [
              "<div style='text-align: center'><div style='display:inline-block'><img height='64px' width='64px' src='https://img.icons8.com/external-tulpahn-outline-color-tulpahn/64/000000/external-sad-emotion-tulpahn-outline-color-tulpahn-1.png'/><h4>2 % </h4></div> | <div style='display:inline-block'><img height='64px' width='64px' src='https://img.icons8.com/external-tulpahn-outline-color-tulpahn/64/000000/external-happy-emotion-tulpahn-outline-color-tulpahn.png'/><h4>97 % </h4></div></div>"
            ],
            "text/plain": [
              "<IPython.core.display.HTML object>"
            ]
          },
          "metadata": {}
        }
      ]
    },
    {
      "cell_type": "code",
      "metadata": {
        "id": "_kLhLv1h7UD_",
        "colab": {
          "base_uri": "https://localhost:8080/",
          "height": 125
        },
        "outputId": "61716c62-bf9d-4bef-d4e9-884c8ae4e058"
      },
      "source": [
        "user_text = \"\\u062E\\u06CC\\u0644\\u06CC \\u062C\\u0627\\u0644\\u0628\\u0647 \\u0627\\u06CC\\u0646 \\u0645\\u0648\\u0628\\u0627\\u06CC\\u0644 \\u0627\\u0635\\u0644\\u0627 \\u0647\\u0645\\u0647 \\u0686\\u06CC \\u062A\\u0645\\u0627\\u0645\\u0647 \\u0645\\u0646 \\u06A9\\u0647 \\u067E\\u0633\\u0646\\u062F\\u06CC\\u062F\\u0645 \\u0627\\u06CC\\u0646 \\u0645\\u0648\\u0628\\u0627\\u06CC\\u0644 \\u0632\\u06CC\\u0628\\u0627 \\u0631\\u0648\" #@param {type:\"string\"}\n",
        "from IPython.core.display import display, HTML\n",
        "_normalizer = hazm.Normalizer()\n",
        "if not user_text==\"\":\n",
        "  text_for_test = _normalizer.normalize(user_text)\n",
        "  text_for_test_words = hazm.word_tokenize(text_for_test)\n",
        "  x_text_for_test_words = np.zeros((1,max_no_tokens,vector_size),dtype=K.floatx())\n",
        "  for t in range(0,len(text_for_test_words)):\n",
        "    if t >= max_no_tokens:\n",
        "      break\n",
        "    if text_for_test_words[t] not in w2v_model.words:\n",
        "      continue\n",
        "    \n",
        "    x_text_for_test_words[0, t, :] = w2v_model.get_word_vector(text_for_test_words[t])\n",
        "  # print(x_text_for_test_words.shape)\n",
        "  # print(text_for_test_words)\n",
        "  result = model.predict(x_text_for_test_words)\n",
        "  pos_percent = str(int(result[0][1]*100))+\" % \"\n",
        "  neg_percent = str(int(result[0][0]*100))+\" % \"\n",
        "  display(HTML(\"<div style='text-align: center'><div style='display:inline-block'><img height='64px' width='64px' src='https://img.icons8.com/external-tulpahn-outline-color-tulpahn/64/000000/external-sad-emotion-tulpahn-outline-color-tulpahn-1.png'/><h4>{}</h4></div> | <div style='display:inline-block'><img height='64px' width='64px' src='https://img.icons8.com/external-tulpahn-outline-color-tulpahn/64/000000/external-happy-emotion-tulpahn-outline-color-tulpahn.png'/><h4>{}</h4></div></div>\".format(neg_percent,pos_percent)))\n",
        "else:\n",
        "  print(\"Please enter your text\")"
      ],
      "execution_count": 17,
      "outputs": [
        {
          "output_type": "display_data",
          "data": {
            "text/html": [
              "<div style='text-align: center'><div style='display:inline-block'><img height='64px' width='64px' src='https://img.icons8.com/external-tulpahn-outline-color-tulpahn/64/000000/external-sad-emotion-tulpahn-outline-color-tulpahn-1.png'/><h4>4 % </h4></div> | <div style='display:inline-block'><img height='64px' width='64px' src='https://img.icons8.com/external-tulpahn-outline-color-tulpahn/64/000000/external-happy-emotion-tulpahn-outline-color-tulpahn.png'/><h4>95 % </h4></div></div>"
            ],
            "text/plain": [
              "<IPython.core.display.HTML object>"
            ]
          },
          "metadata": {}
        }
      ]
    }
  ]
}