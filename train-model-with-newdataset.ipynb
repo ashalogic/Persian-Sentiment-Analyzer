{
  "cells": [
    {
      "cell_type": "code",
      "execution_count": 1,
      "metadata": {
        "colab": {
          "base_uri": "https://localhost:8080/"
        },
        "id": "KYAeDyZgvdhg",
        "outputId": "208d41e3-a494-4027-c748-fed49370edc8"
      },
      "outputs": [
        {
          "output_type": "stream",
          "name": "stdout",
          "text": [
            "--2022-02-20 15:30:37--  https://dl.fbaipublicfiles.com/fasttext/vectors-crawl/cc.fa.300.bin.gz\n",
            "Resolving dl.fbaipublicfiles.com (dl.fbaipublicfiles.com)... 104.22.75.142, 104.22.74.142, 172.67.9.4, ...\n",
            "Connecting to dl.fbaipublicfiles.com (dl.fbaipublicfiles.com)|104.22.75.142|:443... connected.\n",
            "HTTP request sent, awaiting response... 200 OK\n",
            "Length: 4502524724 (4.2G) [application/octet-stream]\n",
            "Saving to: ‘cc.fa.300.bin.gz’\n",
            "\n",
            "cc.fa.300.bin.gz    100%[===================>]   4.19G  33.1MB/s    in 2m 7s   \n",
            "\n",
            "2022-02-20 15:32:45 (33.7 MB/s) - ‘cc.fa.300.bin.gz’ saved [4502524724/4502524724]\n",
            "\n",
            "--2022-02-20 15:34:02--  https://raw.githubusercontent.com/Mehrdadghassabi/Persian-Sentiment-Analyzer/master/better_dataset/train.csv\n",
            "Resolving raw.githubusercontent.com (raw.githubusercontent.com)... 185.199.108.133, 185.199.109.133, 185.199.110.133, ...\n",
            "Connecting to raw.githubusercontent.com (raw.githubusercontent.com)|185.199.108.133|:443... connected.\n",
            "HTTP request sent, awaiting response... 200 OK\n",
            "Length: 9900908 (9.4M) [text/plain]\n",
            "Saving to: ‘train.csv’\n",
            "\n",
            "train.csv           100%[===================>]   9.44M  --.-KB/s    in 0.08s   \n",
            "\n",
            "2022-02-20 15:34:02 (122 MB/s) - ‘train.csv’ saved [9900908/9900908]\n",
            "\n",
            "--2022-02-20 15:34:02--  https://raw.githubusercontent.com/Mehrdadghassabi/Persian-Sentiment-Analyzer/master/better_dataset/dev.csv\n",
            "Resolving raw.githubusercontent.com (raw.githubusercontent.com)... 185.199.108.133, 185.199.109.133, 185.199.110.133, ...\n",
            "Connecting to raw.githubusercontent.com (raw.githubusercontent.com)|185.199.108.133|:443... connected.\n",
            "HTTP request sent, awaiting response... 200 OK\n",
            "Length: 1102163 (1.1M) [text/plain]\n",
            "Saving to: ‘dev.csv’\n",
            "\n",
            "dev.csv             100%[===================>]   1.05M  --.-KB/s    in 0.03s   \n",
            "\n",
            "2022-02-20 15:34:03 (33.3 MB/s) - ‘dev.csv’ saved [1102163/1102163]\n",
            "\n",
            "Collecting hazm\n",
            "  Downloading hazm-0.7.0-py3-none-any.whl (316 kB)\n",
            "\u001b[K     |████████████████████████████████| 316 kB 7.4 MB/s \n",
            "\u001b[?25hCollecting nltk==3.3\n",
            "  Downloading nltk-3.3.0.zip (1.4 MB)\n",
            "\u001b[K     |████████████████████████████████| 1.4 MB 39.6 MB/s \n",
            "\u001b[?25hCollecting libwapiti>=0.2.1\n",
            "  Downloading libwapiti-0.2.1.tar.gz (233 kB)\n",
            "\u001b[K     |████████████████████████████████| 233 kB 52.4 MB/s \n",
            "\u001b[?25hRequirement already satisfied: six in /usr/local/lib/python3.7/dist-packages (from nltk==3.3->hazm) (1.15.0)\n",
            "Building wheels for collected packages: nltk, libwapiti\n",
            "  Building wheel for nltk (setup.py) ... \u001b[?25l\u001b[?25hdone\n",
            "  Created wheel for nltk: filename=nltk-3.3-py3-none-any.whl size=1394486 sha256=634c4a281ed299022f9e49e02d537dd11836917fb43008d5801a9567061590f9\n",
            "  Stored in directory: /root/.cache/pip/wheels/9b/fd/0c/d92302c876e5de87ebd7fc0979d82edb93e2d8d768bf71fac4\n",
            "  Building wheel for libwapiti (setup.py) ... \u001b[?25l\u001b[?25hdone\n",
            "  Created wheel for libwapiti: filename=libwapiti-0.2.1-cp37-cp37m-linux_x86_64.whl size=155079 sha256=904838f69ea07b683741b2438f7cf5aa9a561ec72e1bcba8368a45afeeadebad\n",
            "  Stored in directory: /root/.cache/pip/wheels/ab/b2/5b/0fe4b8f5c0e65341e8ea7bb3f4a6ebabfe8b1ac31322392dbf\n",
            "Successfully built nltk libwapiti\n",
            "Installing collected packages: nltk, libwapiti, hazm\n",
            "  Attempting uninstall: nltk\n",
            "    Found existing installation: nltk 3.2.5\n",
            "    Uninstalling nltk-3.2.5:\n",
            "      Successfully uninstalled nltk-3.2.5\n",
            "Successfully installed hazm-0.7.0 libwapiti-0.2.1 nltk-3.3\n",
            "Collecting sentencepiece\n",
            "  Downloading sentencepiece-0.1.96-cp37-cp37m-manylinux_2_17_x86_64.manylinux2014_x86_64.whl (1.2 MB)\n",
            "\u001b[K     |████████████████████████████████| 1.2 MB 7.5 MB/s \n",
            "\u001b[?25hInstalling collected packages: sentencepiece\n",
            "Successfully installed sentencepiece-0.1.96\n",
            "Collecting transformers\n",
            "  Downloading transformers-4.16.2-py3-none-any.whl (3.5 MB)\n",
            "\u001b[K     |████████████████████████████████| 3.5 MB 7.3 MB/s \n",
            "\u001b[?25hRequirement already satisfied: filelock in /usr/local/lib/python3.7/dist-packages (from transformers) (3.4.2)\n",
            "Requirement already satisfied: tqdm>=4.27 in /usr/local/lib/python3.7/dist-packages (from transformers) (4.62.3)\n",
            "Requirement already satisfied: importlib-metadata in /usr/local/lib/python3.7/dist-packages (from transformers) (4.11.0)\n",
            "Collecting huggingface-hub<1.0,>=0.1.0\n",
            "  Downloading huggingface_hub-0.4.0-py3-none-any.whl (67 kB)\n",
            "\u001b[K     |████████████████████████████████| 67 kB 5.4 MB/s \n",
            "\u001b[?25hCollecting sacremoses\n",
            "  Downloading sacremoses-0.0.47-py2.py3-none-any.whl (895 kB)\n",
            "\u001b[K     |████████████████████████████████| 895 kB 46.2 MB/s \n",
            "\u001b[?25hCollecting tokenizers!=0.11.3,>=0.10.1\n",
            "  Downloading tokenizers-0.11.5-cp37-cp37m-manylinux_2_12_x86_64.manylinux2010_x86_64.whl (6.8 MB)\n",
            "\u001b[K     |████████████████████████████████| 6.8 MB 14.7 MB/s \n",
            "\u001b[?25hRequirement already satisfied: numpy>=1.17 in /usr/local/lib/python3.7/dist-packages (from transformers) (1.21.5)\n",
            "Requirement already satisfied: requests in /usr/local/lib/python3.7/dist-packages (from transformers) (2.23.0)\n",
            "Collecting pyyaml>=5.1\n",
            "  Downloading PyYAML-6.0-cp37-cp37m-manylinux_2_5_x86_64.manylinux1_x86_64.manylinux_2_12_x86_64.manylinux2010_x86_64.whl (596 kB)\n",
            "\u001b[K     |████████████████████████████████| 596 kB 44.6 MB/s \n",
            "\u001b[?25hRequirement already satisfied: packaging>=20.0 in /usr/local/lib/python3.7/dist-packages (from transformers) (21.3)\n",
            "Requirement already satisfied: regex!=2019.12.17 in /usr/local/lib/python3.7/dist-packages (from transformers) (2019.12.20)\n",
            "Requirement already satisfied: typing-extensions>=3.7.4.3 in /usr/local/lib/python3.7/dist-packages (from huggingface-hub<1.0,>=0.1.0->transformers) (3.10.0.2)\n",
            "Requirement already satisfied: pyparsing!=3.0.5,>=2.0.2 in /usr/local/lib/python3.7/dist-packages (from packaging>=20.0->transformers) (3.0.7)\n",
            "Requirement already satisfied: zipp>=0.5 in /usr/local/lib/python3.7/dist-packages (from importlib-metadata->transformers) (3.7.0)\n",
            "Requirement already satisfied: idna<3,>=2.5 in /usr/local/lib/python3.7/dist-packages (from requests->transformers) (2.10)\n",
            "Requirement already satisfied: certifi>=2017.4.17 in /usr/local/lib/python3.7/dist-packages (from requests->transformers) (2021.10.8)\n",
            "Requirement already satisfied: urllib3!=1.25.0,!=1.25.1,<1.26,>=1.21.1 in /usr/local/lib/python3.7/dist-packages (from requests->transformers) (1.24.3)\n",
            "Requirement already satisfied: chardet<4,>=3.0.2 in /usr/local/lib/python3.7/dist-packages (from requests->transformers) (3.0.4)\n",
            "Requirement already satisfied: joblib in /usr/local/lib/python3.7/dist-packages (from sacremoses->transformers) (1.1.0)\n",
            "Requirement already satisfied: click in /usr/local/lib/python3.7/dist-packages (from sacremoses->transformers) (7.1.2)\n",
            "Requirement already satisfied: six in /usr/local/lib/python3.7/dist-packages (from sacremoses->transformers) (1.15.0)\n",
            "Installing collected packages: pyyaml, tokenizers, sacremoses, huggingface-hub, transformers\n",
            "  Attempting uninstall: pyyaml\n",
            "    Found existing installation: PyYAML 3.13\n",
            "    Uninstalling PyYAML-3.13:\n",
            "      Successfully uninstalled PyYAML-3.13\n",
            "Successfully installed huggingface-hub-0.4.0 pyyaml-6.0 sacremoses-0.0.47 tokenizers-0.11.5 transformers-4.16.2\n",
            "Collecting fasttext\n",
            "  Downloading fasttext-0.9.2.tar.gz (68 kB)\n",
            "\u001b[K     |████████████████████████████████| 68 kB 4.2 MB/s \n",
            "\u001b[?25hCollecting pybind11>=2.2\n",
            "  Using cached pybind11-2.9.1-py2.py3-none-any.whl (211 kB)\n",
            "Requirement already satisfied: setuptools>=0.7.0 in /usr/local/lib/python3.7/dist-packages (from fasttext) (57.4.0)\n",
            "Requirement already satisfied: numpy in /usr/local/lib/python3.7/dist-packages (from fasttext) (1.21.5)\n",
            "Building wheels for collected packages: fasttext\n",
            "  Building wheel for fasttext (setup.py) ... \u001b[?25l\u001b[?25hdone\n",
            "  Created wheel for fasttext: filename=fasttext-0.9.2-cp37-cp37m-linux_x86_64.whl size=3131811 sha256=81c71a941b52c5530b2ef86dd1ada64ee1032537fb0bf468d4b520f6182c813e\n",
            "  Stored in directory: /root/.cache/pip/wheels/4e/ca/bf/b020d2be95f7641801a6597a29c8f4f19e38f9c02a345bab9b\n",
            "Successfully built fasttext\n",
            "Installing collected packages: pybind11, fasttext\n",
            "Successfully installed fasttext-0.9.2 pybind11-2.9.1\n"
          ]
        }
      ],
      "source": [
        "!wget https://dl.fbaipublicfiles.com/fasttext/vectors-crawl/cc.fa.300.bin.gz\n",
        "!gunzip /content/cc.fa.300.bin.gz\n",
        "!wget https://raw.githubusercontent.com/Mehrdadghassabi/Persian-Sentiment-Analyzer/master/better_dataset/train.csv\n",
        "!wget https://raw.githubusercontent.com/Mehrdadghassabi/Persian-Sentiment-Analyzer/master/better_dataset/dev.csv\n",
        "!pip install hazm\n",
        "!pip install sentencepiece\n",
        "!pip install transformers\n",
        "!pip install fasttext"
      ]
    },
    {
      "cell_type": "code",
      "execution_count": 2,
      "metadata": {
        "id": "z2pUcwhEv-6A"
      },
      "outputs": [],
      "source": [
        "import fasttext \n",
        "import pandas\n",
        "import random\n",
        "import numpy\n",
        "import hazm\n",
        "import numpy as np\n",
        "import keras.backend as K\n",
        "from keras.models import Sequential\n",
        "from keras.layers import Conv1D, Dropout, Dense, Flatten, LSTM, MaxPooling1D, Bidirectional\n",
        "from tensorflow.keras.optimizers import Adam\n",
        "from keras.callbacks import EarlyStopping, TensorBoard\n",
        "from transformers import AutoTokenizer\n",
        "from transformers import AutoModelForTokenClassification  \n",
        "from transformers import TFAutoModelForTokenClassification  \n",
        "from transformers import pipeline\n",
        "import matplotlib.pyplot as plt"
      ]
    },
    {
      "cell_type": "code",
      "execution_count": 3,
      "metadata": {
        "id": "DmZR92DSwyl7"
      },
      "outputs": [],
      "source": [
        "def clean_text(text):\n",
        "  normalizer = hazm.Normalizer()\n",
        "  text = normalizer.normalize(text)\n",
        "  return text"
      ]
    },
    {
      "cell_type": "code",
      "execution_count": 4,
      "metadata": {
        "id": "vI9V3i-rxIbf"
      },
      "outputs": [],
      "source": [
        "the_size = 300 \n",
        "maxlen = 20 \n",
        "batch =  500\n",
        "count =  7\n",
        "txt = \"کیفیت بد سرویس بد تر تف توش\""
      ]
    },
    {
      "cell_type": "code",
      "execution_count": 5,
      "metadata": {
        "colab": {
          "base_uri": "https://localhost:8080/"
        },
        "id": "weohxuTUxeU4",
        "outputId": "925d0a33-482e-436f-8eb1-29da51f1cfe8"
      },
      "outputs": [
        {
          "output_type": "stream",
          "name": "stderr",
          "text": [
            "Warning : `load_model` does not return WordVectorModel or SupervisedModel any more, but a `FastText` object which is very similar.\n",
            "/usr/local/lib/python3.7/dist-packages/keras/optimizer_v2/adam.py:105: UserWarning: The `lr` argument is deprecated, use `learning_rate` instead.\n",
            "  super(Adam, self).__init__(name, **kwargs)\n"
          ]
        }
      ],
      "source": [
        "Word_vectors = fasttext.load_model(\"/content/cc.fa.300.bin\")\n",
        "train = pandas.read_csv(\"/content/train.csv\", sep='\t')\n",
        "dev = pandas.read_csv(\"/content/dev.csv\", sep='\t')\n",
        "train_list = list(map(lambda x: [clean_text(x[0]),x[1]],zip(train['comment'],train['label_id'])))\n",
        "dev_list = list(map(lambda x: [clean_text(x[0]),x[1]],zip(dev['comment'],dev['label_id'])))\n",
        "good=list(filter(lambda x: x[1] == 0,train_list))\n",
        "bad=list(filter(lambda x: x[1] == 1,train_list))\n",
        "train_list = good[:] + bad[:]\n",
        "good=list(filter(lambda x: x[1] == 0,dev_list))\n",
        "bad=list(filter(lambda x: x[1] == 1,dev_list))\n",
        "dev_list = good[:] + bad[:]\n",
        "train_size=len(train_list)\n",
        "dev_size=len(dev_list)\n",
        "x_train = np.zeros((train_size, maxlen, the_size), dtype=K.floatx())\n",
        "y_train = np.zeros((train_size, 2), dtype=np.int32)\n",
        "x_test = np.zeros((dev_size, maxlen, the_size), dtype=K.floatx())\n",
        "y_test = np.zeros((dev_size, 2), dtype=np.int32)\n",
        "\n",
        "for i in range(train_size):\n",
        "  text_words = hazm.word_tokenize(train_list[i][0])\n",
        "  for t in range(0,len(text_words)):\n",
        "    if t >= maxlen:\n",
        "      break\n",
        "    if text_words[t] not in Word_vectors.words:\n",
        "      continue\n",
        "    x_train[i, t, :] = Word_vectors.get_word_vector(text_words[t])\n",
        "  if train_list[i][1] == 1:\n",
        "    y_train[i, :] = [1.0, 0.0]\n",
        "  else:\n",
        "    y_train[i, :] = [0.0, 1.0]\n",
        "\n",
        "for i in range(dev_size):\n",
        "  text_words = hazm.word_tokenize(dev_list[i][0])\n",
        "  for t in range(0,len(text_words)):\n",
        "    if t >= maxlen:\n",
        "      break\n",
        "    if text_words[t] not in Word_vectors.words:\n",
        "      continue\n",
        "    x_test[i, t, :] = Word_vectors.get_word_vector(text_words[t])\n",
        "  if dev_list[i][1] == 1:\n",
        "    y_test[i, :] = [1.0, 0.0]\n",
        "  else:\n",
        "    y_test[i, :] = [0.0, 1.0]\n",
        "\n",
        "model = Sequential()\n",
        "model.add(Conv1D(32, kernel_size=3, activation='elu', padding='same',\n",
        "                 input_shape=(maxlen, the_size)))\n",
        "model.add(Conv1D(32, kernel_size=3, activation='elu', padding='same'))\n",
        "model.add(Conv1D(32, kernel_size=3, activation='relu', padding='same'))\n",
        "model.add(MaxPooling1D(pool_size=3))\n",
        "model.add(Bidirectional(LSTM(512, dropout=0.2, recurrent_dropout=0.3)))\n",
        "model.add(Dense(512, activation='sigmoid'))\n",
        "model.add(Dropout(0.2))\n",
        "model.add(Dense(512, activation='sigmoid'))\n",
        "model.add(Dropout(0.25))\n",
        "model.add(Dense(512, activation='sigmoid'))\n",
        "model.add(Dropout(0.25))\n",
        "model.add(Dense(2, activation='softmax'))\n",
        "model.compile(loss='categorical_crossentropy', optimizer=Adam(lr=0.0001, decay=1e-6), metrics=['accuracy'])"
      ]
    },
    {
      "cell_type": "code",
      "execution_count": 6,
      "metadata": {
        "colab": {
          "base_uri": "https://localhost:8080/"
        },
        "id": "N4R0TRLJzom9",
        "outputId": "fd6ac3b8-09e3-4f0e-f256-0ba207faeae6"
      },
      "outputs": [
        {
          "output_type": "stream",
          "name": "stdout",
          "text": [
            "Epoch 1/7\n",
            "114/114 [==============================] - 139s 1s/step - loss: 0.7043 - accuracy: 0.5437 - val_loss: 0.5545 - val_accuracy: 0.7284\n",
            "Epoch 2/7\n",
            "114/114 [==============================] - 131s 1s/step - loss: 0.4783 - accuracy: 0.7844 - val_loss: 0.4301 - val_accuracy: 0.8006\n",
            "Epoch 3/7\n",
            "114/114 [==============================] - 131s 1s/step - loss: 0.4248 - accuracy: 0.8142 - val_loss: 0.4204 - val_accuracy: 0.8119\n",
            "Epoch 4/7\n",
            "114/114 [==============================] - 131s 1s/step - loss: 0.4096 - accuracy: 0.8214 - val_loss: 0.4100 - val_accuracy: 0.8210\n",
            "Epoch 5/7\n",
            "114/114 [==============================] - 131s 1s/step - loss: 0.4053 - accuracy: 0.8246 - val_loss: 0.4057 - val_accuracy: 0.8219\n",
            "Epoch 6/7\n",
            "114/114 [==============================] - 145s 1s/step - loss: 0.3961 - accuracy: 0.8298 - val_loss: 0.4059 - val_accuracy: 0.8248\n",
            "Epoch 7/7\n",
            "114/114 [==============================] - 131s 1s/step - loss: 0.3928 - accuracy: 0.8324 - val_loss: 0.3975 - val_accuracy: 0.8276\n"
          ]
        }
      ],
      "source": [
        "history = model.fit(x_train, y_train, batch_size=batch, shuffle=True, epochs=count,\n",
        "         validation_data=(x_test, y_test))\n",
        "model.save('best_model.h5')"
      ]
    },
    {
      "cell_type": "code",
      "execution_count": 7,
      "metadata": {
        "colab": {
          "base_uri": "https://localhost:8080/"
        },
        "id": "_tk9vcR05oED",
        "outputId": "9591b754-28b0-41e1-d2fc-97197c7952c1"
      },
      "outputs": [
        {
          "output_type": "stream",
          "name": "stdout",
          "text": [
            "badpr: 92.04574227333069 % \n",
            "goodpr: 7.9542554914951324 % \n"
          ]
        }
      ],
      "source": [
        "\n",
        "nrm = hazm.Normalizer()\n",
        "normaltxt = nrm.normalize(txt)\n",
        "txtoken = hazm.word_tokenize(normaltxt)\n",
        "vecs = np.zeros((1,maxlen,the_size),dtype=K.floatx())\n",
        "for t in range(0,len(txtoken)):\n",
        "  if t >= maxlen:\n",
        "    break\n",
        "  if txtoken[t] not in Word_vectors.words:\n",
        "    continue\n",
        "    \n",
        "  vecs[0, t, :] = Word_vectors.get_word_vector(txtoken[t])\n",
        "\n",
        "res = model.predict(vecs)\n",
        "goodpr = str(res[0][1]*100)+\" % \"\n",
        "badpr = str(res[0][0]*100)+\" % \"\n",
        "print(\"badpr: \"+badpr)\n",
        "print(\"goodpr: \"+goodpr)"
      ]
    },
    {
      "cell_type": "code",
      "execution_count": 8,
      "metadata": {
        "colab": {
          "base_uri": "https://localhost:8080/",
          "height": 265
        },
        "id": "_a5aSb3Z7k0E",
        "outputId": "38286acd-50e0-44c2-b222-f83127505002"
      },
      "outputs": [
        {
          "output_type": "display_data",
          "data": {
            "image/png": "[encoded data removed]",
            "text/plain": [
              "<Figure size 432x288 with 1 Axes>"
            ]
          },
          "metadata": {
            "needs_background": "light"
          }
        }
      ],
      "source": [
        "trainloss = history.history['loss']\n",
        "valloss = history.history['val_loss']\n",
        "plt.plot(valloss)\n",
        "plt.plot(trainloss)\n",
        "plt.legend(['Validation Loss','Training Loss'])\n",
        "plt.show()"
      ]
    }
  ],
  "metadata": {
    "colab": {
      "collapsed_sections": [],
      "name": "Final_Project_last.ipynb",
      "provenance": []
    },
    "kernelspec": {
      "display_name": "Python 3 (ipykernel)",
      "language": "python",
      "name": "python3"
    },
    "language_info": {
      "codemirror_mode": {
        "name": "ipython",
        "version": 3
      },
      "file_extension": ".py",
      "mimetype": "text/x-python",
      "name": "python",
      "nbconvert_exporter": "python",
      "pygments_lexer": "ipython3",
      "version": "3.9.6"
    }
  },
  "nbformat": 4,
  "nbformat_minor": 0
}